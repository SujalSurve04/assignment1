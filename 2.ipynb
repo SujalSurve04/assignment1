{
 "cells": [
  {
   "cell_type": "code",
   "execution_count": null,
   "id": "24dfe32b-2ac8-4a21-9433-39eb8ef7bfa3",
   "metadata": {},
   "outputs": [],
   "source": [
    "'''Q2. Given are some following variables containing data:\n",
    "(i) var1 = ‘ ‘\n",
    "(ii) var2 = ‘[ DS , ML , Python]’\n",
    "(iii) var3 = [ ‘DS’ , ’ML’ , ‘Python’ ]\n",
    "(iv) var4 = 1.\n",
    "ANS \n",
    "1 -= STRING\n",
    "2- STRING\n",
    "3-LIST\n",
    "4-INTEGER\n"
   ]
  }
 ],
 "metadata": {
  "kernelspec": {
   "display_name": "Python 3 (ipykernel)",
   "language": "python",
   "name": "python3"
  },
  "language_info": {
   "codemirror_mode": {
    "name": "ipython",
    "version": 3
   },
   "file_extension": ".py",
   "mimetype": "text/x-python",
   "name": "python",
   "nbconvert_exporter": "python",
   "pygments_lexer": "ipython3",
   "version": "3.10.8"
  }
 },
 "nbformat": 4,
 "nbformat_minor": 5
}
