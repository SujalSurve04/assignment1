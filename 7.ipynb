{
 "cells": [
  {
   "cell_type": "code",
   "execution_count": 2,
   "id": "666c525d-d4a5-4cbe-a381-1287c387d049",
   "metadata": {},
   "outputs": [
    {
     "name": "stdout",
     "output_type": "stream",
     "text": [
      "[1, 2, 8, 4, 5]\n"
     ]
    }
   ],
   "source": [
    "#muttable datatype can be modified\n",
    "l=[1,2,3,4,5] \n",
    "l[2]=8\n",
    "print(l)"
   ]
  },
  {
   "cell_type": "code",
   "execution_count": 3,
   "id": "e14dccf0-164c-4697-82b7-877a066ba1f1",
   "metadata": {},
   "outputs": [
    {
     "name": "stdout",
     "output_type": "stream",
     "text": [
      "sujal\n",
      "sujalsurve\n"
     ]
    }
   ],
   "source": [
    "#immutable cannot be modified\n",
    "name=\"sujal\"\n",
    "print(name)\n",
    "name= name+\"surve\"\n",
    "print(name)"
   ]
  }
 ],
 "metadata": {
  "kernelspec": {
   "display_name": "Python 3 (ipykernel)",
   "language": "python",
   "name": "python3"
  },
  "language_info": {
   "codemirror_mode": {
    "name": "ipython",
    "version": 3
   },
   "file_extension": ".py",
   "mimetype": "text/x-python",
   "name": "python",
   "nbconvert_exporter": "python",
   "pygments_lexer": "ipython3",
   "version": "3.10.8"
  }
 },
 "nbformat": 4,
 "nbformat_minor": 5
}
