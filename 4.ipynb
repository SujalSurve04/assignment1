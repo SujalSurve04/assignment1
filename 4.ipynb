{
 "cells": [
  {
   "cell_type": "code",
   "execution_count": 7,
   "id": "5371c33d-3152-4954-b33b-0a090be255dc",
   "metadata": {},
   "outputs": [
    {
     "name": "stdout",
     "output_type": "stream",
     "text": [
      "<class 'int'>\n",
      "<class 'int'>\n",
      "<class 'float'>\n",
      "<class 'float'>\n",
      "<class 'str'>\n",
      "<class 'tuple'>\n",
      "<class 'bool'>\n",
      "<class 'bool'>\n",
      "<class 'dict'>\n",
      "<class 'str'>\n",
      "<class 'int'>\n"
     ]
    }
   ],
   "source": [
    "l=[1,2,3.14,0.5,\"sam\",(1,2,3),True,False ,{\"name\":\"sujal\"},\"sahil\",12]\n",
    "for i in l :\n",
    "         print (type(i))"
   ]
  },
  {
   "cell_type": "code",
   "execution_count": null,
   "id": "e0b57a6e-10fd-46a4-857e-8e27866fd596",
   "metadata": {},
   "outputs": [],
   "source": []
  }
 ],
 "metadata": {
  "kernelspec": {
   "display_name": "Python 3 (ipykernel)",
   "language": "python",
   "name": "python3"
  },
  "language_info": {
   "codemirror_mode": {
    "name": "ipython",
    "version": 3
   },
   "file_extension": ".py",
   "mimetype": "text/x-python",
   "name": "python",
   "nbconvert_exporter": "python",
   "pygments_lexer": "ipython3",
   "version": "3.10.8"
  }
 },
 "nbformat": 4,
 "nbformat_minor": 5
}
