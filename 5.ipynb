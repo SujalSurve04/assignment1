{
 "cells": [
  {
   "cell_type": "code",
   "execution_count": 3,
   "id": "8653e10c-f65a-47b4-b875-a586bee9b14b",
   "metadata": {},
   "outputs": [
    {
     "name": "stdout",
     "output_type": "stream",
     "text": [
      "A is divisble by b 1 times\n"
     ]
    }
   ],
   "source": [
    "a =10\n",
    "b=2\n",
    "i=0\n",
    "while a%b == 0 :\n",
    "    a= a//b\n",
    "    i=i+1\n",
    "print(f\"A is divisble by b {i} times\")"
   ]
  },
  {
   "cell_type": "code",
   "execution_count": null,
   "id": "9be21f28-ef5a-4a5a-9fd3-34942dede7e4",
   "metadata": {},
   "outputs": [],
   "source": []
  }
 ],
 "metadata": {
  "kernelspec": {
   "display_name": "Python 3 (ipykernel)",
   "language": "python",
   "name": "python3"
  },
  "language_info": {
   "codemirror_mode": {
    "name": "ipython",
    "version": 3
   },
   "file_extension": ".py",
   "mimetype": "text/x-python",
   "name": "python",
   "nbconvert_exporter": "python",
   "pygments_lexer": "ipython3",
   "version": "3.10.8"
  }
 },
 "nbformat": 4,
 "nbformat_minor": 5
}
